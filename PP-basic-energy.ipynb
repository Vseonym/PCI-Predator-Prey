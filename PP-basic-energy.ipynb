{
 "cells": [
  {
   "cell_type": "code",
   "execution_count": 1,
   "id": "214a4785",
   "metadata": {},
   "outputs": [
    {
     "name": "stdout",
     "output_type": "stream",
     "text": [
      "pygame 2.6.1 (SDL 2.28.4, Python 3.13.2)\n",
      "Hello from the pygame community. https://www.pygame.org/contribute.html\n"
     ]
    }
   ],
   "source": [
    "from dataclasses import dataclass, field\n",
    "from vi import Agent, Config, Simulation, HeadlessSimulation\n",
    "import pygame as pg\n",
    "from pygame import Vector2\n",
    "import os\n",
    "import numpy as np\n",
    "import random\n",
    "from multiprocessing import Pool\n",
    "import polars as pl\n",
    "import seaborn as sns\n",
    "import matplotlib.pyplot as plt\n",
    "import pandas as pd\n",
    "import math"
   ]
  },
  {
   "cell_type": "code",
   "execution_count": 2,
   "id": "13d4e7a4",
   "metadata": {},
   "outputs": [],
   "source": [
    "frame_dir = \"frames\"\n",
    "os.makedirs(frame_dir, exist_ok=True)\n",
    "frame_count = 0\n",
    "\n",
    "def save_frame(screen):\n",
    "    global frame_count\n",
    "    pg.image.save(screen, os.path.join(frame_dir, f\"frame_{frame_count:05d}.png\"))\n",
    "    frame_count += 1"
   ]
  },
  {
   "cell_type": "code",
   "execution_count": 3,
   "id": "309f9e09",
   "metadata": {},
   "outputs": [],
   "source": [
    "class RecordingSimulation(Simulation):\n",
    "    def __init__(self, config):\n",
    "        super().__init__(config)\n",
    "        self.frame_count = 0\n",
    "        os.makedirs(\"frames\", exist_ok=True)\n",
    "\n",
    "    def after_update(self) -> None:\n",
    "        # Draw everything to the screen\n",
    "        self._all.draw(self._screen)\n",
    "\n",
    "        if self.config.visualise_chunks:\n",
    "            self.__visualise_chunks()\n",
    "\n",
    "        # Save current frame as an image\n",
    "        # pg.image.save(self._screen, f\"frames/frame_{self.frame_count:05d}.png\")\n",
    "\n",
    "        # Update the screen with the new image\n",
    "        pg.display.flip()\n",
    "\n",
    "        self._clock.tick(self.config.fps_limit)\n",
    "\n",
    "        current_fps = self._clock.get_fps()\n",
    "        if current_fps > 0:\n",
    "            self._metrics.fps._push(current_fps)\n",
    "\n",
    "            if self.config.print_fps:\n",
    "                print(f\"FPS: {current_fps:.1f}\")  # noqa: T201\n",
    "\n",
    "        # Increment a frame counter (you may need to initialize it somewhere)\n",
    "        self.frame_count += 1\n"
   ]
  },
  {
   "cell_type": "code",
   "execution_count": 4,
   "id": "64112d34",
   "metadata": {},
   "outputs": [],
   "source": [
    "@dataclass\n",
    "class PPConfig(Config):\n",
    "    #desired initial populations\n",
    "    initial_prey: int = 100\n",
    "    initial_predators: int = 50\n",
    "\n",
    "    #parameters of the Lotka-Volterra equations\n",
    "    alpha = 0.0055    # slower prey reproduction\n",
    "    beta = 0.015     # more effective predators\n",
    "    delta = 0.8     # predator reproduction chance\n",
    "    gamma = 0.005    # predator death chance\n",
    "\n",
    "config = PPConfig(image_rotation = True, movement_speed = 3.0, radius = 25, duration = 60*60*10, fps_limit = 0)\n",
    "    "
   ]
  },
  {
   "cell_type": "code",
   "execution_count": 5,
   "id": "d5cb4f63",
   "metadata": {},
   "outputs": [],
   "source": [
    "class Prey(Agent):\n",
    "    def on_spawn(self):\n",
    "        self.flee_strength = 1.5\n",
    "        self.join_strength = 1.0\n",
    "        self.state = \"Wander\"\n",
    "        self.wander_direction_cooldown = 50\n",
    "        return super().on_spawn()\n",
    "    \n",
    "    def change_position(self):\n",
    "        self.there_is_no_escape()\n",
    "\n",
    "        if random.random() < self.config.alpha:\n",
    "            self.reproduce()\n",
    "\n",
    "        flee_force = Vector2(0, 0)\n",
    "\n",
    "        neighbors = list(self.in_proximity_accuracy())\n",
    "        if any(isinstance(agent, Predator) for agent, _ in neighbors):\n",
    "            self.state = \"Flee\"\n",
    "        else:\n",
    "            self.state = \"Wander\"\n",
    "\n",
    "\n",
    "        if self.state == \"Flee\":\n",
    "            self.wander_direction_cooldown = 0\n",
    "            predators_nerby = [(agent, dist) for agent, dist in neighbors if isinstance(agent, Predator)]\n",
    "            for predator, dist in predators_nerby:\n",
    "                if dist == 0:\n",
    "                    dist = 0.001\n",
    "                direction = self.pos - predator.pos\n",
    "                if dist > 0:\n",
    "                    direction = direction / dist\n",
    "                force_magnitude = self.flee_strength / dist\n",
    "                flee_force += direction * force_magnitude\n",
    "            \n",
    "            self.move = flee_force\n",
    "            if self.move.length() > 0:\n",
    "                self.move = self.move.normalize() * self.config.movement_speed\n",
    "\n",
    "\n",
    "        elif self.state == \"Wander\":\n",
    "            if self.wander_direction_cooldown == 0:\n",
    "                self.wander_direction_cooldown = 50\n",
    "                wander_angle = random.uniform(0, 2 * math.pi)\n",
    "                wander_force = Vector2(1, 0).rotate_rad(wander_angle)\n",
    "                self.move = wander_force\n",
    "                if self.move.length() > 0:\n",
    "                    self.move = self.move.normalize() * self.config.movement_speed\n",
    "            else:\n",
    "                self.wander_direction_cooldown -= 1\n",
    "            \n",
    "        self.pos += self.move"
   ]
  },
  {
   "cell_type": "code",
   "execution_count": 6,
   "id": "f0668437",
   "metadata": {},
   "outputs": [],
   "source": [
    "class Predator(Agent):\n",
    "    def on_spawn(self):\n",
    "        self.random_move_strength = 1.0\n",
    "        self.predator_speed_boost = 1.0\n",
    "        self.state = \"Wander\"\n",
    "        self.wander_direction_cooldown = 0\n",
    "        self.energy_level = 1.0  # Energy level for the predator\n",
    "        self.energy_level_decay_rate = 0.03  # Rate at which energy decays over time\n",
    "        self.energy_level_gain_from_prey = 0.5  # Energy gained from consuming\n",
    "        return super().on_spawn()\n",
    "    \n",
    "    def change_position(self):\n",
    "        self.there_is_no_escape()\n",
    "        if random.random() < self.config.gamma or self.energy_level <= 0:\n",
    "            self.kill()\n",
    "            return\n",
    "        \n",
    "        attract_force = Vector2(0, 0)\n",
    "\n",
    "        neighbors = list(self.in_proximity_accuracy())\n",
    "\n",
    "        if any(isinstance(agent, Prey) for agent, _ in neighbors):\n",
    "            self.state = \"Hunt\"\n",
    "        else:\n",
    "            self.state = \"Wander\"\n",
    "\n",
    "        if self.state == \"Hunt\":\n",
    "            self.wander_direction_cooldown = 0\n",
    "            prey_nearby = [(agent, dist) for agent, dist in neighbors if isinstance(agent, Prey)]\n",
    "            the_closest_prey, closest_dist = min(prey_nearby, key=lambda x: x[1])\n",
    "            if closest_dist == 0:\n",
    "                    closest_dist = 0.001\n",
    "            direction = the_closest_prey.pos - self.pos\n",
    "                \n",
    "            if closest_dist > 0:\n",
    "                direction = direction / closest_dist\n",
    "\n",
    "            force_magnitude = 1.0 / closest_dist\n",
    "            attract_force += direction * force_magnitude\n",
    "            if random.random() < self.config.beta and the_closest_prey.is_alive():\n",
    "                the_closest_prey.kill()\n",
    "                self.energy_level += self.energy_level_gain_from_prey\n",
    "                if random.random() < self.config.delta:\n",
    "                    self.reproduce()\n",
    "            \n",
    "            self.move = attract_force\n",
    "\n",
    "            if self.move.length() > 0:\n",
    "                self.move = self.move.normalize() * self.config.movement_speed * self.predator_speed_boost\n",
    "            \n",
    "                \n",
    "\n",
    "        elif self.state == \"Wander\":\n",
    "            if self.wander_direction_cooldown == 0:\n",
    "                self.wander_direction_cooldown = 50\n",
    "                wander_angle = random.uniform(0, 2 * math.pi)\n",
    "                wander_force = Vector2(1, 0).rotate_rad(wander_angle)\n",
    "                self.move = wander_force\n",
    "                if self.move.length() > 0:\n",
    "                    self.move = self.move.normalize() * self.config.movement_speed * self.predator_speed_boost\n",
    "            else:\n",
    "                self.wander_direction_cooldown -= 1\n",
    "        \n",
    "        self.pos += self.move\n",
    "        self.energy_level -= self.energy_level_decay_rate"
   ]
  },
  {
   "cell_type": "code",
   "execution_count": null,
   "id": "4aa54969",
   "metadata": {},
   "outputs": [
    {
     "data": {
      "text/plain": [
       "<vi.metrics.Metrics at 0x22ad4d96660>"
      ]
     },
     "execution_count": 8,
     "metadata": {},
     "output_type": "execute_result"
    },
    {
     "ename": "",
     "evalue": "",
     "output_type": "error",
     "traceback": [
      "\u001b[1;31mThe Kernel crashed while executing code in the current cell or a previous cell. \n",
      "\u001b[1;31mPlease review the code in the cell(s) to identify a possible cause of the failure. \n",
      "\u001b[1;31mClick <a href='https://aka.ms/vscodeJupyterKernelCrash'>here</a> for more info. \n",
      "\u001b[1;31mView Jupyter <a href='command:jupyter.viewOutput'>log</a> for further details."
     ]
    }
   ],
   "source": [
    "(\n",
    "    RecordingSimulation(\n",
    "        config\n",
    "    )\n",
    "    .batch_spawn_agents(config.initial_predators, Predator, images=[\"images/Predator.png\"])\n",
    "    .batch_spawn_agents(config.initial_prey, Prey, images=[\"images/Prey.png\"])\n",
    "    .run()\n",
    ")"
   ]
  },
  {
   "cell_type": "code",
   "execution_count": 13,
   "id": "70477147",
   "metadata": {},
   "outputs": [],
   "source": [
    "class HeadlessSimulationRefined(HeadlessSimulation):\n",
    "   def __init__(self, config):\n",
    "      super().__init__(config)\n",
    "      self.frame_count = 0\n",
    "      self.prey_predator__per_frame = []\n",
    "\n",
    "   def after_update(self) -> None:\n",
    "      # Increment a frame counter (you may need to initialize it somewhere)\n",
    "      \n",
    "      # if self.frame_count % 10 == 0:\n",
    "      num_prey = len([agent for agent in self._all if isinstance(agent, Prey)])\n",
    "      num_predator = len([agent for agent in self._all if isinstance(agent, Predator)])\n",
    "      self.prey_predator__per_frame.append((num_prey, num_predator))\n",
    "      if num_predator == 0:\n",
    "         self.stop()\n",
    "      if self.frame_count % 100 == 0:\n",
    "            print(num_prey, num_predator)\n",
    "      self.frame_count += 1\n",
    "\n",
    "   def run(self):\n",
    "        \"\"\"Run the simulation until it's ended by closing the window or when the `vi.config.Schema.duration` has elapsed.\"\"\"\n",
    "        self._running = True\n",
    "\n",
    "        while self._running:\n",
    "            self.tick()\n",
    "\n",
    "        return self.prey_predator__per_frame"
   ]
  },
  {
   "cell_type": "code",
   "execution_count": 14,
   "id": "d1b05d62",
   "metadata": {},
   "outputs": [],
   "source": [
    "def run_simulation(config: Config) -> pl.DataFrame:\n",
    "    return (\n",
    "        HeadlessSimulationRefined(config)\n",
    "        .batch_spawn_agents(config.initial_predators, Predator, images=[\"images/Predator.png\"])\n",
    "        .batch_spawn_agents(config.initial_prey, Prey, images=[\"images/Prey.png\"])\n",
    "        .run()\n",
    "    )"
   ]
  },
  {
   "cell_type": "code",
   "execution_count": 15,
   "id": "553119b4",
   "metadata": {},
   "outputs": [
    {
     "name": "stdout",
     "output_type": "stream",
     "text": [
      "100 50\n"
     ]
    },
    {
     "data": {
      "image/png": "[encoded data removed]",
      "text/plain": [
       "<Figure size 1000x600 with 1 Axes>"
      ]
     },
     "metadata": {},
     "output_type": "display_data"
    }
   ],
   "source": [
    "agents_per_frame = run_simulation(config)\n",
    "df = pd.DataFrame(agents_per_frame, columns=['Prey', 'Predator'])\n",
    "df['Time'] = range(len(df)) \n",
    "\n",
    "df_melted = df.melt(id_vars='Time', value_vars=['Prey', 'Predator'],\n",
    "                    var_name='Species', value_name='Population')\n",
    "\n",
    "sns.set(style=\"whitegrid\")\n",
    "plt.figure(figsize=(10, 6))\n",
    "sns.lineplot(data=df_melted, x='Time', y='Population', hue='Species')\n",
    "plt.title(\"Predator-Prey Populations Over Time\")\n",
    "plt.xlabel(\"Time Step\")\n",
    "plt.ylabel(\"Population\")\n",
    "plt.legend(title=\"Species\")\n",
    "plt.tight_layout()\n",
    "plt.show()"
   ]
  }
 ],
 "metadata": {
  "kernelspec": {
   "display_name": "base_n",
   "language": "python",
   "name": "python3"
  },
  "language_info": {
   "codemirror_mode": {
    "name": "ipython",
    "version": 3
   },
   "file_extension": ".py",
   "mimetype": "text/x-python",
   "name": "python",
   "nbconvert_exporter": "python",
   "pygments_lexer": "ipython3",
   "version": "3.13.2"
  }
 },
 "nbformat": 4,
 "nbformat_minor": 5
}
