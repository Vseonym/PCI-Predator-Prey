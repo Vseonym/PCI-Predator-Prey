{
 "cells": [
  {
   "cell_type": "code",
   "execution_count": 33,
   "id": "c2e8227e",
   "metadata": {},
   "outputs": [],
   "source": [
    "import pandas as pd\n",
    "import matplotlib\n",
    "import seaborn\n",
    "from scipy.stats import levene\n",
    "from scipy.stats import mannwhitneyu\n",
    "from scipy.stats import shapiro"
   ]
  },
  {
   "cell_type": "code",
   "execution_count": 34,
   "id": "073506fb",
   "metadata": {},
   "outputs": [],
   "source": [
    "baseline_df = pd.read_csv('basic-simulation_results.csv')\n",
    "baseline_df['Model'] = 'baseline'\n",
    "\n",
    "sexual_df = pd.read_csv('sexual-simulation_results.csv')\n",
    "sexual_df['Model'] = 'sexual'\n",
    "\n",
    "df = pd.concat([baseline_df, sexual_df], ignore_index=True)\n",
    "\n",
    "extinction_times = df.groupby(['Run', 'Model'])['ExtinctionTime'].first().reset_index()\n"
   ]
  },
  {
   "cell_type": "code",
   "execution_count": 35,
   "id": "c88de8c9",
   "metadata": {},
   "outputs": [
    {
     "name": "stdout",
     "output_type": "stream",
     "text": [
      "Levene's test p-value: 0.28217717159217354\n"
     ]
    }
   ],
   "source": [
    "baseline = extinction_times[extinction_times['Model'] == 'baseline']['ExtinctionTime']\n",
    "sexual = extinction_times[extinction_times['Model'] == 'sexual']['ExtinctionTime']\n",
    "\n",
    "# Levene's test for equal variances\n",
    "stat, p_levene = levene(baseline, sexual)\n",
    "print(\"Levene's test p-value:\", p_levene)\n"
   ]
  },
  {
   "cell_type": "code",
   "execution_count": 36,
   "id": "83391bdf",
   "metadata": {},
   "outputs": [
    {
     "name": "stdout",
     "output_type": "stream",
     "text": [
      "Shapiro-Wilk test: W=0.968, p-value=0.4901\n",
      "✅ Likely normal distribution (fail to reject H₀)\n"
     ]
    }
   ],
   "source": [
    "stat, p = shapiro(baseline)\n",
    "print(f\"Shapiro-Wilk test: W={stat:.3f}, p-value={p:.4f}\")\n",
    "\n",
    "if p > 0.05:\n",
    "    print(\"✅ Likely normal distribution (fail to reject H₀)\")\n",
    "else:\n",
    "    print(\"❌ Not normally distributed (reject H₀)\")"
   ]
  },
  {
   "cell_type": "code",
   "execution_count": 37,
   "id": "ff18d8c2",
   "metadata": {},
   "outputs": [
    {
     "name": "stdout",
     "output_type": "stream",
     "text": [
      "Shapiro-Wilk test: W=0.822, p-value=0.0002\n",
      "❌ Not normally distributed (reject H₀)\n"
     ]
    }
   ],
   "source": [
    "stat, p = shapiro(sexual)\n",
    "print(f\"Shapiro-Wilk test: W={stat:.3f}, p-value={p:.4f}\")\n",
    "\n",
    "if p > 0.05:\n",
    "    print(\"✅ Likely normal distribution (fail to reject H₀)\")\n",
    "else:\n",
    "    print(\"❌ Not normally distributed (reject H₀)\")"
   ]
  },
  {
   "cell_type": "code",
   "execution_count": 38,
   "id": "e97e2239",
   "metadata": {},
   "outputs": [
    {
     "name": "stdout",
     "output_type": "stream",
     "text": [
      "Mann-Whitney U test: U=409.0, p-value=0.5493\n",
      "✔️ No significant difference\n"
     ]
    }
   ],
   "source": [
    "\n",
    "stat, p = mannwhitneyu(baseline, sexual, alternative='two-sided')\n",
    "print(f\"Mann-Whitney U test: U={stat}, p-value={p:.4f}\")\n",
    "\n",
    "if p < 0.05:\n",
    "    print(\"❗ Statistically significant difference\")\n",
    "else:\n",
    "    print(\"✔️ No significant difference\")"
   ]
  }
 ],
 "metadata": {
  "kernelspec": {
   "display_name": "main",
   "language": "python",
   "name": "python3"
  },
  "language_info": {
   "codemirror_mode": {
    "name": "ipython",
    "version": 3
   },
   "file_extension": ".py",
   "mimetype": "text/x-python",
   "name": "python",
   "nbconvert_exporter": "python",
   "pygments_lexer": "ipython3",
   "version": "3.12.3"
  }
 },
 "nbformat": 4,
 "nbformat_minor": 5
}
